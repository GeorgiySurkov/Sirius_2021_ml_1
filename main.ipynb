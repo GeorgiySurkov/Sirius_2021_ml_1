{
 "cells": [
  {
   "cell_type": "markdown",
   "metadata": {},
   "source": [
    "# Python и машинное обучение\n",
    "\n",
    "*Выполнил Сурков Георгий*\n",
    "\n",
    "В данном файле находится анализ демографических данных. Функция для формирования обращения к человеку находится в файле `greeting.py`"
   ]
  },
  {
   "cell_type": "code",
   "execution_count": 1,
   "metadata": {},
   "outputs": [],
   "source": [
    "# импортируем нужные библиотеки\n",
    "import pandas as pd\n",
    "import numpy as np\n",
    "%matplotlib inline\n",
    "import matplotlib.pyplot as plt"
   ]
  },
  {
   "cell_type": "markdown",
   "metadata": {},
   "source": [
    "## Загружаем данные"
   ]
  },
  {
   "cell_type": "code",
   "execution_count": 2,
   "metadata": {},
   "outputs": [],
   "source": [
    "boys = pd.read_csv('./Boys.csv', sep=';', index_col='ID')\n",
    "boys['Name'] = boys['Name'].apply(str.strip)"
   ]
  },
  {
   "cell_type": "code",
   "execution_count": 3,
   "metadata": {},
   "outputs": [
    {
     "data": {
      "text/html": [
       "<div>\n",
       "<style scoped>\n",
       "    .dataframe tbody tr th:only-of-type {\n",
       "        vertical-align: middle;\n",
       "    }\n",
       "\n",
       "    .dataframe tbody tr th {\n",
       "        vertical-align: top;\n",
       "    }\n",
       "\n",
       "    .dataframe thead th {\n",
       "        text-align: right;\n",
       "    }\n",
       "</style>\n",
       "<table border=\"1\" class=\"dataframe\">\n",
       "  <thead>\n",
       "    <tr style=\"text-align: right;\">\n",
       "      <th></th>\n",
       "      <th>Name</th>\n",
       "      <th>NumberOfPersons</th>\n",
       "      <th>global_id</th>\n",
       "      <th>Year</th>\n",
       "      <th>Month</th>\n",
       "    </tr>\n",
       "    <tr>\n",
       "      <th>ID</th>\n",
       "      <th></th>\n",
       "      <th></th>\n",
       "      <th></th>\n",
       "      <th></th>\n",
       "      <th></th>\n",
       "    </tr>\n",
       "  </thead>\n",
       "  <tbody>\n",
       "    <tr>\n",
       "      <th>1</th>\n",
       "      <td>Александр</td>\n",
       "      <td>253</td>\n",
       "      <td>37750243</td>\n",
       "      <td>2015</td>\n",
       "      <td>январь</td>\n",
       "    </tr>\n",
       "    <tr>\n",
       "      <th>2</th>\n",
       "      <td>Михаил</td>\n",
       "      <td>247</td>\n",
       "      <td>37750244</td>\n",
       "      <td>2015</td>\n",
       "      <td>январь</td>\n",
       "    </tr>\n",
       "    <tr>\n",
       "      <th>3</th>\n",
       "      <td>Иван</td>\n",
       "      <td>226</td>\n",
       "      <td>37750245</td>\n",
       "      <td>2015</td>\n",
       "      <td>январь</td>\n",
       "    </tr>\n",
       "    <tr>\n",
       "      <th>4</th>\n",
       "      <td>Максим</td>\n",
       "      <td>208</td>\n",
       "      <td>37750246</td>\n",
       "      <td>2015</td>\n",
       "      <td>январь</td>\n",
       "    </tr>\n",
       "    <tr>\n",
       "      <th>5</th>\n",
       "      <td>Артём</td>\n",
       "      <td>190</td>\n",
       "      <td>37750247</td>\n",
       "      <td>2015</td>\n",
       "      <td>январь</td>\n",
       "    </tr>\n",
       "  </tbody>\n",
       "</table>\n",
       "</div>"
      ],
      "text/plain": [
       "         Name  NumberOfPersons  global_id  Year   Month\n",
       "ID                                                     \n",
       "1   Александр              253   37750243  2015  январь\n",
       "2      Михаил              247   37750244  2015  январь\n",
       "3        Иван              226   37750245  2015  январь\n",
       "4      Максим              208   37750246  2015  январь\n",
       "5       Артём              190   37750247  2015  январь"
      ]
     },
     "execution_count": 3,
     "metadata": {},
     "output_type": "execute_result"
    }
   ],
   "source": [
    "boys.head()"
   ]
  },
  {
   "cell_type": "code",
   "execution_count": 4,
   "metadata": {},
   "outputs": [],
   "source": [
    "girls = pd.read_csv('./Girls.csv', sep=';', index_col='ID')\n",
    "girls['Name'] = girls['Name'].apply(str.strip)"
   ]
  },
  {
   "cell_type": "code",
   "execution_count": 5,
   "metadata": {},
   "outputs": [
    {
     "data": {
      "text/html": [
       "<div>\n",
       "<style scoped>\n",
       "    .dataframe tbody tr th:only-of-type {\n",
       "        vertical-align: middle;\n",
       "    }\n",
       "\n",
       "    .dataframe tbody tr th {\n",
       "        vertical-align: top;\n",
       "    }\n",
       "\n",
       "    .dataframe thead th {\n",
       "        text-align: right;\n",
       "    }\n",
       "</style>\n",
       "<table border=\"1\" class=\"dataframe\">\n",
       "  <thead>\n",
       "    <tr style=\"text-align: right;\">\n",
       "      <th></th>\n",
       "      <th>Name</th>\n",
       "      <th>NumberOfPersons</th>\n",
       "      <th>global_id</th>\n",
       "      <th>Year</th>\n",
       "      <th>Month</th>\n",
       "    </tr>\n",
       "    <tr>\n",
       "      <th>ID</th>\n",
       "      <th></th>\n",
       "      <th></th>\n",
       "      <th></th>\n",
       "      <th></th>\n",
       "      <th></th>\n",
       "    </tr>\n",
       "  </thead>\n",
       "  <tbody>\n",
       "    <tr>\n",
       "      <th>1</th>\n",
       "      <td>Мария</td>\n",
       "      <td>252</td>\n",
       "      <td>37750254</td>\n",
       "      <td>2015</td>\n",
       "      <td>январь</td>\n",
       "    </tr>\n",
       "    <tr>\n",
       "      <th>2</th>\n",
       "      <td>Анастасия</td>\n",
       "      <td>224</td>\n",
       "      <td>37750255</td>\n",
       "      <td>2015</td>\n",
       "      <td>январь</td>\n",
       "    </tr>\n",
       "    <tr>\n",
       "      <th>3</th>\n",
       "      <td>Анна</td>\n",
       "      <td>190</td>\n",
       "      <td>37750256</td>\n",
       "      <td>2015</td>\n",
       "      <td>январь</td>\n",
       "    </tr>\n",
       "    <tr>\n",
       "      <th>4</th>\n",
       "      <td>Варвара</td>\n",
       "      <td>190</td>\n",
       "      <td>37750257</td>\n",
       "      <td>2015</td>\n",
       "      <td>январь</td>\n",
       "    </tr>\n",
       "    <tr>\n",
       "      <th>5</th>\n",
       "      <td>Виктория</td>\n",
       "      <td>186</td>\n",
       "      <td>37750258</td>\n",
       "      <td>2015</td>\n",
       "      <td>январь</td>\n",
       "    </tr>\n",
       "  </tbody>\n",
       "</table>\n",
       "</div>"
      ],
      "text/plain": [
       "         Name  NumberOfPersons  global_id  Year   Month\n",
       "ID                                                     \n",
       "1       Мария              252   37750254  2015  январь\n",
       "2   Анастасия              224   37750255  2015  январь\n",
       "3        Анна              190   37750256  2015  январь\n",
       "4     Варвара              190   37750257  2015  январь\n",
       "5    Виктория              186   37750258  2015  январь"
      ]
     },
     "execution_count": 5,
     "metadata": {},
     "output_type": "execute_result"
    }
   ],
   "source": [
    "girls.head()"
   ]
  },
  {
   "cell_type": "code",
   "execution_count": 6,
   "metadata": {},
   "outputs": [],
   "source": [
    "girl_names_amount = girls.groupby(by='Name').aggregate({'NumberOfPersons': 'sum'})\n",
    "girl_names_amount.reset_index(inplace=True)\n",
    "girl_names_amount['NameLastChar'] = girl_names_amount['Name'].apply(lambda name: name.strip()[-1])\n",
    "girl_names_amount.sort_values('NumberOfPersons', inplace=True, ascending=False)\n",
    "girl_names_amount['IsMale'] = 0"
   ]
  },
  {
   "cell_type": "code",
   "execution_count": 7,
   "metadata": {},
   "outputs": [],
   "source": [
    "boy_names_amount = boys.groupby(by='Name').aggregate({'NumberOfPersons': 'sum'})\n",
    "boy_names_amount.reset_index(inplace=True)\n",
    "boy_names_amount['NameLastChar'] = boy_names_amount['Name'].apply(lambda name: name.strip()[-1])\n",
    "boy_names_amount.sort_values('NumberOfPersons', inplace=True, ascending=False)\n",
    "boy_names_amount['IsMale'] = 1"
   ]
  },
  {
   "cell_type": "code",
   "execution_count": 8,
   "metadata": {},
   "outputs": [],
   "source": [
    "children_names_amount = boy_names_amount.append(girl_names_amount).sort_values('NumberOfPersons', ascending=False)"
   ]
  },
  {
   "cell_type": "code",
   "execution_count": 9,
   "metadata": {},
   "outputs": [],
   "source": [
    "children_last_char_amount = children_names_amount\n",
    "children_last_char_amount['Males'] = children_last_char_amount.apply(lambda x: x['NumberOfPersons'] if x['IsMale'] == 1 else 0, axis=1)\n",
    "children_last_char_amount['Females'] = children_last_char_amount.apply(lambda x: x['NumberOfPersons'] if x['IsMale'] == 0 else 0, axis=1)\n",
    "children_last_char_amount = children_last_char_amount[['NameLastChar', 'Males', 'Females']].groupby('NameLastChar').agg('sum')"
   ]
  },
  {
   "cell_type": "code",
   "execution_count": 10,
   "metadata": {},
   "outputs": [
    {
     "data": {
      "text/html": [
       "<div>\n",
       "<style scoped>\n",
       "    .dataframe tbody tr th:only-of-type {\n",
       "        vertical-align: middle;\n",
       "    }\n",
       "\n",
       "    .dataframe tbody tr th {\n",
       "        vertical-align: top;\n",
       "    }\n",
       "\n",
       "    .dataframe thead th {\n",
       "        text-align: right;\n",
       "    }\n",
       "</style>\n",
       "<table border=\"1\" class=\"dataframe\">\n",
       "  <thead>\n",
       "    <tr style=\"text-align: right;\">\n",
       "      <th></th>\n",
       "      <th>Males</th>\n",
       "      <th>Females</th>\n",
       "    </tr>\n",
       "    <tr>\n",
       "      <th>NameLastChar</th>\n",
       "      <th></th>\n",
       "      <th></th>\n",
       "    </tr>\n",
       "  </thead>\n",
       "  <tbody>\n",
       "    <tr>\n",
       "      <th>а</th>\n",
       "      <td>11093</td>\n",
       "      <td>195800</td>\n",
       "    </tr>\n",
       "    <tr>\n",
       "      <th>б</th>\n",
       "      <td>3364</td>\n",
       "      <td>7</td>\n",
       "    </tr>\n",
       "    <tr>\n",
       "      <th>в</th>\n",
       "      <td>21693</td>\n",
       "      <td>0</td>\n",
       "    </tr>\n",
       "    <tr>\n",
       "      <th>г</th>\n",
       "      <td>1492</td>\n",
       "      <td>0</td>\n",
       "    </tr>\n",
       "    <tr>\n",
       "      <th>д</th>\n",
       "      <td>10398</td>\n",
       "      <td>0</td>\n",
       "    </tr>\n",
       "    <tr>\n",
       "      <th>е</th>\n",
       "      <td>0</td>\n",
       "      <td>55</td>\n",
       "    </tr>\n",
       "    <tr>\n",
       "      <th>и</th>\n",
       "      <td>1226</td>\n",
       "      <td>48</td>\n",
       "    </tr>\n",
       "    <tr>\n",
       "      <th>й</th>\n",
       "      <td>74828</td>\n",
       "      <td>0</td>\n",
       "    </tr>\n",
       "    <tr>\n",
       "      <th>к</th>\n",
       "      <td>8268</td>\n",
       "      <td>0</td>\n",
       "    </tr>\n",
       "    <tr>\n",
       "      <th>л</th>\n",
       "      <td>39915</td>\n",
       "      <td>0</td>\n",
       "    </tr>\n",
       "    <tr>\n",
       "      <th>м</th>\n",
       "      <td>34613</td>\n",
       "      <td>1542</td>\n",
       "    </tr>\n",
       "    <tr>\n",
       "      <th>н</th>\n",
       "      <td>51606</td>\n",
       "      <td>699</td>\n",
       "    </tr>\n",
       "    <tr>\n",
       "      <th>п</th>\n",
       "      <td>1109</td>\n",
       "      <td>0</td>\n",
       "    </tr>\n",
       "    <tr>\n",
       "      <th>р</th>\n",
       "      <td>58791</td>\n",
       "      <td>0</td>\n",
       "    </tr>\n",
       "    <tr>\n",
       "      <th>с</th>\n",
       "      <td>4263</td>\n",
       "      <td>0</td>\n",
       "    </tr>\n",
       "    <tr>\n",
       "      <th>т</th>\n",
       "      <td>1757</td>\n",
       "      <td>17</td>\n",
       "    </tr>\n",
       "    <tr>\n",
       "      <th>у</th>\n",
       "      <td>0</td>\n",
       "      <td>28</td>\n",
       "    </tr>\n",
       "    <tr>\n",
       "      <th>ф</th>\n",
       "      <td>492</td>\n",
       "      <td>0</td>\n",
       "    </tr>\n",
       "    <tr>\n",
       "      <th>х</th>\n",
       "      <td>37</td>\n",
       "      <td>0</td>\n",
       "    </tr>\n",
       "    <tr>\n",
       "      <th>ь</th>\n",
       "      <td>4512</td>\n",
       "      <td>2185</td>\n",
       "    </tr>\n",
       "    <tr>\n",
       "      <th>я</th>\n",
       "      <td>7792</td>\n",
       "      <td>114693</td>\n",
       "    </tr>\n",
       "  </tbody>\n",
       "</table>\n",
       "</div>"
      ],
      "text/plain": [
       "              Males  Females\n",
       "NameLastChar                \n",
       "а             11093   195800\n",
       "б              3364        7\n",
       "в             21693        0\n",
       "г              1492        0\n",
       "д             10398        0\n",
       "е                 0       55\n",
       "и              1226       48\n",
       "й             74828        0\n",
       "к              8268        0\n",
       "л             39915        0\n",
       "м             34613     1542\n",
       "н             51606      699\n",
       "п              1109        0\n",
       "р             58791        0\n",
       "с              4263        0\n",
       "т              1757       17\n",
       "у                 0       28\n",
       "ф               492        0\n",
       "х                37        0\n",
       "ь              4512     2185\n",
       "я              7792   114693"
      ]
     },
     "execution_count": 10,
     "metadata": {},
     "output_type": "execute_result"
    }
   ],
   "source": [
    "children_last_char_amount"
   ]
  },
  {
   "cell_type": "code",
   "execution_count": 11,
   "metadata": {},
   "outputs": [
    {
     "data": {
      "image/png": "[encoded data removed]",
      "text/plain": [
       "<Figure size 1224x504 with 1 Axes>"
      ]
     },
     "metadata": {
      "needs_background": "light"
     },
     "output_type": "display_data"
    }
   ],
   "source": [
    "# plt.figure(figsize=(16, 7))\n",
    "children_last_char_amount.sort_values('Males', ascending=False).plot.bar(stacked=True, figsize=(17, 7))\n",
    "plt.show()"
   ]
  },
  {
   "cell_type": "code",
   "execution_count": 12,
   "metadata": {},
   "outputs": [
    {
     "data": {
      "image/png": "[encoded data removed]",
      "text/plain": [
       "<Figure size 1224x504 with 1 Axes>"
      ]
     },
     "metadata": {
      "needs_background": "light"
     },
     "output_type": "display_data"
    }
   ],
   "source": [
    "children_last_char_amount[children_last_char_amount['Females'] != 0].sort_values(\n",
    "    'Females', ascending=False\n",
    ").plot.bar(y='Females', color='orange', figsize=(17, 7))\n",
    "plt.show()"
   ]
  },
  {
   "cell_type": "code",
   "execution_count": 13,
   "metadata": {},
   "outputs": [
    {
     "data": {
      "image/png": "[encoded data removed]",
      "text/plain": [
       "<Figure size 1224x504 with 1 Axes>"
      ]
     },
     "metadata": {
      "needs_background": "light"
     },
     "output_type": "display_data"
    }
   ],
   "source": [
    "children_last_char_amount[children_last_char_amount['Males'] != 0].sort_values(\n",
    "    'Males', ascending=False\n",
    ").plot.bar(y='Males', figsize=(17, 7))\n",
    "plt.show()"
   ]
  },
  {
   "cell_type": "code",
   "execution_count": 14,
   "metadata": {},
   "outputs": [],
   "source": [
    "def count_intersections(series):\n",
    "    res = series.value_counts()\n",
    "#     print(res)\n",
    "    if len(res) == 1:\n",
    "        return 0\n",
    "    return res.min()"
   ]
  },
  {
   "cell_type": "markdown",
   "metadata": {},
   "source": [
    "Группируем данные по последним *n* буквам слова и смотрим, сколько есть маличиков и девочек с таким окончанием имени.  \n",
    "Как видно, по 4 последним буквам имени можно однозначно определить пол."
   ]
  },
  {
   "cell_type": "code",
   "execution_count": 19,
   "metadata": {},
   "outputs": [
    {
     "name": "stdout",
     "output_type": "stream",
     "text": [
      "-------------\n",
      "ending_len == 1\n",
      "               IsMale\n",
      "NameLastChars        \n",
      "а                  10\n",
      "б                   1\n",
      "и                   1\n",
      "м                   3\n",
      "н                   3\n",
      "т                   1\n",
      "ь                   4\n",
      "я                   2\n",
      "-------------\n",
      "ending_len == 2\n",
      "               IsMale\n",
      "NameLastChars        \n",
      "ам                  1\n",
      "ат                  1\n",
      "ва                  1\n",
      "за                  1\n",
      "ин                  3\n",
      "ка                  1\n",
      "ла                  3\n",
      "ли                  1\n",
      "ль                  3\n",
      "ма                  1\n",
      "ня                  1\n",
      "са                  1\n",
      "та                  1\n",
      "фа                  1\n",
      "ья                  1\n",
      "-------------\n",
      "ending_len == 3\n",
      "               IsMale\n",
      "NameLastChars        \n",
      "ель                 1\n",
      "ила                 2\n",
      "иса                 1\n",
      "ита                 1\n",
      "лла                 1\n",
      "лья                 1\n",
      "мин                 2\n",
      "-------------\n",
      "ending_len == 4\n",
      "Empty DataFrame\n",
      "Columns: [IsMale]\n",
      "Index: []\n"
     ]
    }
   ],
   "source": [
    "for i in range(1, 5):\n",
    "    print('-------------')\n",
    "    print(f'ending_len == {i}')\n",
    "    children_names_amount['NameLastChars'] = children_names_amount['Name'].apply(lambda name: name[-i:].lower())\n",
    "    intersections = children_names_amount.groupby('NameLastChars').agg({'IsMale': count_intersections})\n",
    "    print(intersections[intersections['IsMale'] != 0])"
   ]
  },
  {
   "cell_type": "code",
   "execution_count": 20,
   "metadata": {},
   "outputs": [],
   "source": [
    "# Получаем окончания имен у мальчиков и девочек\n",
    "children_names_amount['NameLastChars'] = children_names_amount['Name'].apply(lambda name: name[-4:].lower())\n",
    "male, female = children_names_amount.groupby('IsMale')\n",
    "if male[0] == 0:\n",
    "    male, female = female, male"
   ]
  },
  {
   "cell_type": "code",
   "execution_count": 21,
   "metadata": {},
   "outputs": [],
   "source": [
    "import pickle\n",
    "\n",
    "# Сохраняем окончания имен мальчиков и девочек в файл\n",
    "with open('male_endings.pkl', 'wb') as f:\n",
    "    male_endings = set(male[1]['NameLastChars'])\n",
    "    pickle.dump(male_endings, f)\n",
    "with open('female_endings.pkl', 'wb') as f:\n",
    "    female_endings = set(female[1]['NameLastChars'])\n",
    "    pickle.dump(female_endings, f)"
   ]
  }
 ],
 "metadata": {
  "kernelspec": {
   "display_name": "Python 3",
   "language": "python",
   "name": "python3"
  },
  "language_info": {
   "codemirror_mode": {
    "name": "ipython",
    "version": 3
   },
   "file_extension": ".py",
   "mimetype": "text/x-python",
   "name": "python",
   "nbconvert_exporter": "python",
   "pygments_lexer": "ipython3",
   "version": "3.9.0"
  }
 },
 "nbformat": 4,
 "nbformat_minor": 4
}
